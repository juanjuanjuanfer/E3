{
 "cells": [
  {
   "cell_type": "markdown",
   "metadata": {},
   "source": [
    "pure python profiling"
   ]
  },
  {
   "cell_type": "code",
   "execution_count": 1,
   "metadata": {},
   "outputs": [
    {
     "name": "stdout",
     "output_type": "stream",
     "text": [
      "661 ms ± 9.41 ms per loop (mean ± std. dev. of 7 runs, 1 loop each)\n",
      "         16001384 function calls (16001293 primitive calls) in 5.305 seconds\n",
      "\n",
      "   Ordered by: cumulative time\n",
      "   List reduced from 157 to 10 due to restriction <10>\n",
      "\n",
      "   ncalls  tottime  percall  cumtime  percall filename:lineno(function)\n",
      "        2    0.000    0.000    5.305    2.652 c:\\Users\\juanj\\anaconda3\\envs\\HPC\\Lib\\site-packages\\IPython\\core\\interactiveshell.py:3517(run_code)\n",
      "      4/2    0.000    0.000    5.305    2.652 {built-in method builtins.exec}\n",
      "        1    0.000    0.000    5.305    5.305 c:\\Users\\juanj\\anaconda3\\envs\\HPC\\Lib\\site-packages\\IPython\\core\\interactiveshell.py:2412(run_line_magic)\n",
      "        1    0.000    0.000    5.305    5.305 c:\\Users\\juanj\\anaconda3\\envs\\HPC\\Lib\\site-packages\\IPython\\core\\magics\\execution.py:1024(timeit)\n",
      "        8    0.000    0.000    5.303    0.663 c:\\Users\\juanj\\anaconda3\\envs\\HPC\\Lib\\site-packages\\IPython\\core\\magics\\execution.py:159(timeit)\n",
      "        8    0.000    0.000    5.303    0.663 <magic-timeit>:1(inner)\n",
      "        8    2.600    0.325    5.303    0.663 c:\\Users\\juanj\\OneDrive\\Desktop\\UPY\\hpc2\\E3\\purepython_profiling.py:6(compute_pi)\n",
      "        1    0.000    0.000    4.630    4.630 c:\\Users\\juanj\\anaconda3\\envs\\HPC\\Lib\\timeit.py:186(repeat)\n",
      "  8000000    1.897    0.000    2.703    0.000 c:\\Users\\juanj\\OneDrive\\Desktop\\UPY\\hpc2\\E3\\purepython_profiling.py:3(f)\n",
      "  8000000    0.806    0.000    0.806    0.000 {built-in method math.sqrt}\n",
      "\n",
      "\n"
     ]
    },
    {
     "data": {
      "text/plain": [
       "<pstats.Stats at 0x23a14aa9790>"
      ]
     },
     "execution_count": 1,
     "metadata": {},
     "output_type": "execute_result"
    }
   ],
   "source": [
    "import purepython_profiling as ppp\n",
    "import cProfile\n",
    "import pstats\n",
    "\n",
    "profiler = cProfile.Profile()\n",
    "profiler.enable()\n",
    "%timeit ppp.compute_pi(1_000_000)\n",
    "profiler.disable()\n",
    "stats = pstats.Stats(profiler)\n",
    "stats.sort_stats('cumulative').print_stats(10)"
   ]
  },
  {
   "cell_type": "markdown",
   "metadata": {},
   "source": [
    "Python multiprocessing profiling"
   ]
  },
  {
   "cell_type": "code",
   "execution_count": 2,
   "metadata": {},
   "outputs": [
    {
     "name": "stdout",
     "output_type": "stream",
     "text": [
      "274 ms ± 38.5 ms per loop (mean ± std. dev. of 7 runs, 1 loop each)\n",
      "         15375 function calls (15247 primitive calls) in 2.274 seconds\n",
      "\n",
      "   Ordered by: internal time\n",
      "   List reduced from 446 to 20 due to restriction <20>\n",
      "\n",
      "   ncalls  tottime  percall  cumtime  percall filename:lineno(function)\n",
      "      122    1.755    0.014    1.755    0.014 {method 'acquire' of '_thread.lock' objects}\n",
      "       80    0.265    0.003    0.265    0.003 {built-in method _winapi.WaitForSingleObject}\n",
      "       32    0.163    0.005    0.163    0.005 {built-in method _winapi.CreateProcess}\n",
      "        7    0.007    0.001    0.007    0.001 {built-in method io.open_code}\n",
      "       96    0.006    0.000    0.013    0.000 {method 'dump' of '_pickle.Pickler' objects}\n",
      "        1    0.004    0.004    0.004    0.004 {built-in method _imp.create_dynamic}\n",
      "        7    0.004    0.001    0.004    0.001 {built-in method marshal.loads}\n",
      "       32    0.004    0.000    0.191    0.006 c:\\Users\\juanj\\anaconda3\\envs\\HPC\\Lib\\multiprocessing\\popen_spawn_win32.py:45(__init__)\n",
      "       24    0.004    0.000    0.004    0.000 {built-in method nt.stat}\n",
      "      272    0.003    0.000    0.003    0.000 {built-in method _winapi.CloseHandle}\n",
      "       39    0.002    0.000    0.002    0.000 {method '__exit__' of '_io._IOBase' objects}\n",
      "       96    0.002    0.000    0.002    0.000 c:\\Users\\juanj\\anaconda3\\envs\\HPC\\Lib\\multiprocessing\\reduction.py:38(__init__)\n",
      "       24    0.002    0.000    0.002    0.000 {built-in method _thread.start_new_thread}\n",
      "       32    0.001    0.000    0.199    0.006 c:\\Users\\juanj\\anaconda3\\envs\\HPC\\Lib\\multiprocessing\\context.py:333(_Popen)\n",
      "       64    0.001    0.000    0.002    0.000 c:\\Users\\juanj\\anaconda3\\envs\\HPC\\Lib\\multiprocessing\\process.py:350(__reduce__)\n",
      "       32    0.001    0.000    0.001    0.000 {built-in method io.open}\n",
      "       32    0.001    0.000    0.001    0.000 {built-in method _winapi.CreatePipe}\n",
      "       32    0.001    0.000    0.002    0.000 c:\\Users\\juanj\\anaconda3\\envs\\HPC\\Lib\\multiprocessing\\process.py:80(__init__)\n",
      "       40    0.001    0.000    0.001    0.000 c:\\Users\\juanj\\anaconda3\\envs\\HPC\\Lib\\multiprocessing\\util.py:186(__init__)\n",
      "       32    0.001    0.000    0.001    0.000 {built-in method _winapi.WriteFile}\n",
      "\n",
      "\n"
     ]
    },
    {
     "data": {
      "text/plain": [
       "<pstats.Stats at 0x23a14c66cd0>"
      ]
     },
     "execution_count": 2,
     "metadata": {},
     "output_type": "execute_result"
    }
   ],
   "source": [
    "import pythonparallel_profiling as parallel\n",
    "profiler = cProfile.Profile()\n",
    "profiler.enable()\n",
    "%timeit parallel.parallel_compute_pi(1_000_000)\n",
    "profiler.disable()\n",
    "stats = pstats.Stats(profiler)\n",
    "stats.sort_stats('tottime').print_stats(20)"
   ]
  },
  {
   "cell_type": "markdown",
   "metadata": {},
   "source": [
    "mi4py profiling"
   ]
  },
  {
   "cell_type": "code",
   "execution_count": 3,
   "metadata": {},
   "outputs": [
    {
     "name": "stdout",
     "output_type": "stream",
     "text": [
      "Requirement already satisfied: mpi4py in c:\\users\\juanj\\anaconda3\\envs\\hpc\\lib\\site-packages (3.1.6)\n",
      "Note: you may need to restart the kernel to use updated packages.\n"
     ]
    }
   ],
   "source": [
    "%pip install mpi4py"
   ]
  },
  {
   "cell_type": "code",
   "execution_count": 4,
   "metadata": {},
   "outputs": [
    {
     "name": "stdout",
     "output_type": "stream",
     "text": [
      "689 ms ± 37.9 ms per loop (mean ± std. dev. of 7 runs, 1 loop each)\n",
      "         16001442 function calls (16001351 primitive calls) in 5.524 seconds\n",
      "\n",
      "   Ordered by: internal time\n",
      "   List reduced from 160 to 20 due to restriction <20>\n",
      "\n",
      "   ncalls  tottime  percall  cumtime  percall filename:lineno(function)\n",
      "        8    2.900    0.363    5.520    0.690 c:\\Users\\juanj\\OneDrive\\Desktop\\UPY\\hpc2\\E3\\pythonmi4py_profiling.py:8(compute_pi_mpi)\n",
      "  8000000    1.829    0.000    2.619    0.000 c:\\Users\\juanj\\OneDrive\\Desktop\\UPY\\hpc2\\E3\\pythonmi4py_profiling.py:5(f)\n",
      "  8000000    0.790    0.000    0.790    0.000 {built-in method math.sqrt}\n",
      "       11    0.001    0.000    0.001    0.000 {built-in method builtins.compile}\n",
      "        8    0.000    0.000    0.000    0.000 {method 'reduce' of 'mpi4py.MPI.Comm' objects}\n",
      "        1    0.000    0.000    5.523    5.523 c:\\Users\\juanj\\anaconda3\\envs\\HPC\\Lib\\site-packages\\IPython\\core\\magics\\execution.py:1024(timeit)\n",
      "        9    0.000    0.000    0.000    0.000 c:\\Users\\juanj\\anaconda3\\envs\\HPC\\Lib\\tokenize.py:433(_tokenize)\n",
      "       11    0.000    0.000    0.000    0.000 {method 'match' of 're.Pattern' objects}\n",
      "     37/1    0.000    0.000    0.000    0.000 c:\\Users\\juanj\\anaconda3\\envs\\HPC\\Lib\\ast.py:205(_fix)\n",
      "        1    0.000    0.000    0.000    0.000 c:\\Users\\juanj\\anaconda3\\envs\\HPC\\Lib\\site-packages\\zmq\\sugar\\socket.py:621(send)\n",
      "     27/1    0.000    0.000    0.000    0.000 c:\\Users\\juanj\\anaconda3\\envs\\HPC\\Lib\\ast.py:488(generic_visit)\n",
      "        8    0.000    0.000    5.520    0.690 c:\\Users\\juanj\\anaconda3\\envs\\HPC\\Lib\\site-packages\\IPython\\core\\magics\\execution.py:159(timeit)\n",
      "      185    0.000    0.000    0.000    0.000 c:\\Users\\juanj\\anaconda3\\envs\\HPC\\Lib\\ast.py:255(iter_fields)\n",
      "      209    0.000    0.000    0.000    0.000 {built-in method builtins.getattr}\n",
      "       73    0.000    0.000    0.000    0.000 c:\\Users\\juanj\\anaconda3\\envs\\HPC\\Lib\\ast.py:267(iter_child_nodes)\n",
      "        1    0.000    0.000    5.524    5.524 c:\\Users\\juanj\\anaconda3\\envs\\HPC\\Lib\\site-packages\\IPython\\core\\interactiveshell.py:2412(run_line_magic)\n",
      "        1    0.000    0.000    0.000    0.000 c:\\Users\\juanj\\anaconda3\\envs\\HPC\\Lib\\site-packages\\IPython\\core\\inputtransformer2.py:511(make_tokens_by_line)\n",
      "      245    0.000    0.000    0.000    0.000 {built-in method builtins.isinstance}\n",
      "        2    0.000    0.000    0.000    0.000 c:\\Users\\juanj\\anaconda3\\envs\\HPC\\Lib\\shlex.py:133(read_token)\n",
      "     28/1    0.000    0.000    0.000    0.000 c:\\Users\\juanj\\anaconda3\\envs\\HPC\\Lib\\ast.py:414(visit)\n",
      "\n",
      "\n"
     ]
    },
    {
     "data": {
      "text/plain": [
       "<pstats.Stats at 0x23a14c29410>"
      ]
     },
     "execution_count": 4,
     "metadata": {},
     "output_type": "execute_result"
    }
   ],
   "source": [
    "import pythonmi4py_profiling as mi4py_profiling\n",
    "\n",
    "profiler = cProfile.Profile()\n",
    "profiler.enable()\n",
    "%timeit  mi4py_profiling.compute_pi_mpi(1_000_000)\n",
    "profiler.disable()\n",
    "stats = pstats.Stats(profiler)\n",
    "stats.sort_stats('tottime').print_stats(20)"
   ]
  },
  {
   "cell_type": "code",
   "execution_count": 5,
   "metadata": {},
   "outputs": [
    {
     "name": "stdout",
     "output_type": "stream",
     "text": [
      "Fri Apr 19 06:14:17 2024    profile_output_rank_0.prof\n",
      "\n",
      "         750004 function calls in 0.173 seconds\n",
      "\n",
      "   Ordered by: internal time\n",
      "\n",
      "   ncalls  tottime  percall  cumtime  percall filename:lineno(function)\n",
      "   250001    0.067    0.000    0.148    0.000 pythonmi4py_profiling.py:10(<genexpr>)\n",
      "   250000    0.051    0.000    0.082    0.000 pythonmi4py_profiling.py:6(f)\n",
      "   250000    0.030    0.000    0.030    0.000 {built-in method math.sqrt}\n",
      "        1    0.024    0.024    0.173    0.173 {built-in method builtins.sum}\n",
      "        1    0.000    0.000    0.000    0.000 {method 'disable' of '_lsprof.Profiler' objects}\n",
      "        1    0.000    0.000    0.173    0.173 pythonmi4py_profiling.py:9(compute_pi_part)\n",
      "\n",
      "\n"
     ]
    },
    {
     "data": {
      "text/plain": [
       "<pstats.Stats at 0x23a14c02290>"
      ]
     },
     "execution_count": 5,
     "metadata": {},
     "output_type": "execute_result"
    }
   ],
   "source": [
    "import pstats\n",
    "\n",
    "# Load the profiling statistics\n",
    "prof_stats = pstats.Stats(\"profile_output_rank_0.prof\")\n",
    "\n",
    "# Print out all the profiling information\n",
    "prof_stats.strip_dirs().sort_stats(\"time\").print_stats()\n"
   ]
  },
  {
   "cell_type": "code",
   "execution_count": 6,
   "metadata": {},
   "outputs": [
    {
     "name": "stdout",
     "output_type": "stream",
     "text": [
      "Fri Apr 19 06:14:17 2024    profile_output_rank_1.prof\n",
      "\n",
      "         750004 function calls in 0.196 seconds\n",
      "\n",
      "   Ordered by: internal time\n",
      "\n",
      "   ncalls  tottime  percall  cumtime  percall filename:lineno(function)\n",
      "   250001    0.076    0.000    0.168    0.000 pythonmi4py_profiling.py:10(<genexpr>)\n",
      "   250000    0.058    0.000    0.092    0.000 pythonmi4py_profiling.py:6(f)\n",
      "   250000    0.035    0.000    0.035    0.000 {built-in method math.sqrt}\n",
      "        1    0.028    0.028    0.196    0.196 {built-in method builtins.sum}\n",
      "        1    0.000    0.000    0.000    0.000 {method 'disable' of '_lsprof.Profiler' objects}\n",
      "        1    0.000    0.000    0.196    0.196 pythonmi4py_profiling.py:9(compute_pi_part)\n",
      "\n",
      "\n"
     ]
    },
    {
     "data": {
      "text/plain": [
       "<pstats.Stats at 0x23a14c6a850>"
      ]
     },
     "execution_count": 6,
     "metadata": {},
     "output_type": "execute_result"
    }
   ],
   "source": [
    "prof_stats = pstats.Stats(\"profile_output_rank_1.prof\")\n",
    "\n",
    "# Print out all the profiling information\n",
    "prof_stats.strip_dirs().sort_stats(\"time\").print_stats()"
   ]
  }
 ],
 "metadata": {
  "kernelspec": {
   "display_name": "upystuff",
   "language": "python",
   "name": "python3"
  },
  "language_info": {
   "codemirror_mode": {
    "name": "ipython",
    "version": 3
   },
   "file_extension": ".py",
   "mimetype": "text/x-python",
   "name": "python",
   "nbconvert_exporter": "python",
   "pygments_lexer": "ipython3",
   "version": "3.11.7"
  }
 },
 "nbformat": 4,
 "nbformat_minor": 2
}
